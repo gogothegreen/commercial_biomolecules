{
 "cells": [
  {
   "cell_type": "code",
   "execution_count": 10,
   "metadata": {},
   "outputs": [],
   "source": [
    "import pandas as pd\n",
    "import matplotlib.pyplot as plt\n",
    "import numpy as np"
   ]
  },
  {
   "cell_type": "code",
   "execution_count": 9,
   "metadata": {
    "scrolled": true
   },
   "outputs": [
    {
     "name": "stdout",
     "output_type": "stream",
     "text": [
      "             Compound                          Obtained from Derived from  \\\n",
      "0       Cyclosporin A                  Tolypocladium nivenum          NaN   \n",
      "1          Fingolimod                      Isaria sinclairii     myriocin   \n",
      "2   mycophenolic acid             Penicillium brevicompactum          NaN   \n",
      "3             Statins                   Penicillium citrinum          NaN   \n",
      "4        Gibberellins                        Gibberella zeae          NaN   \n",
      "5               Taxol                       Taxus brevifolia          NaN   \n",
      "6        Camptothecin                   Nathapodytes foetida          NaN   \n",
      "7         Carotenoids      plants, fungi, algae and bacteria          NaN   \n",
      "8          β-Carotene      Mucor, Phycomyces and B. trispora          NaN   \n",
      "9         astaxanthin                         X. dendrorhous          NaN   \n",
      "10        Antibiotics                     Filamentous fungii          NaN   \n",
      "11      Glycolic acid  S. cerevisiae and Klyveromyces lactis          NaN   \n",
      "12            Insulin                                    NaN          NaN   \n",
      "13        Caspofungin                      Glarea lozoyensis          NaN   \n",
      "\n",
      "                Type of molecule  Discovery date  Commercilization date  \\\n",
      "0    cyclic nonribosomal peptide          1971.0                 1983.0   \n",
      "1                      aminodiol          1992.0                 2010.0   \n",
      "2                            NaN          1893.0                 2004.0   \n",
      "3                            NaN          1976.0                 1987.0   \n",
      "4                        Hormone             NaN                    NaN   \n",
      "5   steroidal diterpene alkaloid          1971.0                 1992.0   \n",
      "6    monoterpene indole alkaloid          1966.0                 1996.0   \n",
      "7                     terpenoids             NaN                    NaN   \n",
      "8                            NaN             NaN                    NaN   \n",
      "9                            NaN             NaN                    NaN   \n",
      "10                           NaN             NaN                    NaN   \n",
      "11                           NaN             NaN                    NaN   \n",
      "12                           NaN             NaN                    NaN   \n",
      "13                           NaN             NaN                    NaN   \n",
      "\n",
      "   Cost per unit  Annual sales  \\\n",
      "0            NaN    2000000000   \n",
      "1            NaN    2700000000   \n",
      "2            NaN     441000000   \n",
      "3            NaN   14000000000   \n",
      "4            NaN  100000000000   \n",
      "5            NaN    3700000000   \n",
      "6            NaN    1000000000   \n",
      "7            NaN    1200000000   \n",
      "8            NaN     261000000   \n",
      "9        2500/kg     252000000   \n",
      "10           NaN   35000000000   \n",
      "11           NaN      93000000   \n",
      "12           NaN   12000000000   \n",
      "13           NaN     573000000   \n",
      "\n",
      "                                                 Uses  \\\n",
      "0                                   immunosuppressant   \n",
      "1                                   immunosuppressant   \n",
      "2   antibacterial, antifungal, antiviral, antitumo...   \n",
      "3                          Cholesterol-lowering agent   \n",
      "4   isoprenoid growth regulators, controlling flow...   \n",
      "5                                      Antineoplastic   \n",
      "6                                      Antineoplastic   \n",
      "7   antioxidants, nutritional supplements and food...   \n",
      "8                                                 NaN   \n",
      "9   antioxidant properties and health-related func...   \n",
      "10                                                NaN   \n",
      "11                                                NaN   \n",
      "12                                                NaN   \n",
      "13                                         antifungal   \n",
      "\n",
      "                               Recombinant production  \n",
      "0                                                 NaN  \n",
      "1                                                 NaN  \n",
      "2                                                 NaN  \n",
      "3   simvastatin: E. coli, Pravastatin: Penicillium...  \n",
      "4                                                 NaN  \n",
      "5                                                 NaN  \n",
      "6                                                 NaN  \n",
      "7                                                 NaN  \n",
      "8                                                 NaN  \n",
      "9                                       S. cerevisiae  \n",
      "10                                                NaN  \n",
      "11            Engineered S. cerevisiae and K. lactis   \n",
      "12                                      S. cerevisiae  \n",
      "13                                                NaN  \n"
     ]
    }
   ],
   "source": [
    "biomoleculesdf = pd.read_excel('commercial_fungal_metabloites.xlsx')\n",
    "print(biomoleculesdf)"
   ]
  },
  {
   "cell_type": "code",
   "execution_count": 14,
   "metadata": {},
   "outputs": [
    {
     "data": {
      "text/plain": [
       "Text(0, 0.5, 'Dollars')"
      ]
     },
     "execution_count": 14,
     "metadata": {},
     "output_type": "execute_result"
    },
    {
     "data": {
      "image/png": "[encoded data removed]",
      "text/plain": [
       "<Figure size 432x288 with 1 Axes>"
      ]
     },
     "metadata": {
      "needs_background": "light"
     },
     "output_type": "display_data"
    }
   ],
   "source": [
    "plt.bar(biomoleculesdf['Compound'], biomoleculesdf['Annual sales'])\n",
    "plt.xticks(rotation = 90)\n",
    "plt.ylabel('Dollars')"
   ]
  },
  {
   "cell_type": "code",
   "execution_count": 16,
   "metadata": {},
   "outputs": [],
   "source": [
    "# writing to CSV file\n",
    "csvfl = 'biomolecules.csv'\n",
    "biomoleculesdf.to_csv(csvfl, sep='\\t', index=False, na_rep='NA')"
   ]
  }
 ],
 "metadata": {
  "kernelspec": {
   "display_name": "Python 3",
   "language": "python",
   "name": "python3"
  },
  "language_info": {
   "codemirror_mode": {
    "name": "ipython",
    "version": 3
   },
   "file_extension": ".py",
   "mimetype": "text/x-python",
   "name": "python",
   "nbconvert_exporter": "python",
   "pygments_lexer": "ipython3",
   "version": "3.8.3"
  }
 },
 "nbformat": 4,
 "nbformat_minor": 4
}
